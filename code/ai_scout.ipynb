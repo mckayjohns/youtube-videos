{
 "cells": [
  {
   "cell_type": "code",
   "execution_count": 1,
   "id": "e3077e8de861260f",
   "metadata": {
    "ExecuteTime": {
     "end_time": "2024-04-20T14:00:52.640152Z",
     "start_time": "2024-04-20T14:00:52.620197Z"
    }
   },
   "outputs": [],
   "source": [
    "import requests\n",
    "import pandas as pd\n",
    "\n",
    "from datetime import datetime\n",
    "\n",
    "from openai import OpenAI\n",
    "from bs4 import BeautifulSoup\n",
    "\n",
    "client = OpenAI(\n",
    "    api_key=\"\" # PUT YOUR API KEY here\n",
    ")"
   ]
  },
  {
   "cell_type": "code",
   "execution_count": 11,
   "id": "e5c94a1838886c30",
   "metadata": {
    "ExecuteTime": {
     "end_time": "2024-04-20T14:19:39.948532Z",
     "start_time": "2024-04-20T14:19:39.732367Z"
    }
   },
   "outputs": [],
   "source": [
    "# Lamine Yamal\n",
    "player_name = 'Lamine Yamal'\n",
    "url = 'https://fbref.com/en/players/82ec26c1/Lamine-Yamal'\n",
    "attrs = 'scout_summary_AM'\n",
    "\n",
    "# # Nathan Broadhead\n",
    "player_name = 'Nathan Broadhead'\n",
    "url = 'https://fbref.com/en/players/43309491/Nathan-Broadhead'\n",
    "attrs = 'scout_summary_AM'\n",
    "\n",
    "\n",
    "df = pd.read_html(\n",
    "    url, \n",
    "    attrs={'id': attrs} # Change the id & class to correspond to the table\n",
    ")[0]"
   ]
  },
  {
   "cell_type": "code",
   "execution_count": 12,
   "id": "cddda9a11b525d32",
   "metadata": {
    "ExecuteTime": {
     "end_time": "2024-04-20T14:19:41.138753Z",
     "start_time": "2024-04-20T14:19:40.674493Z"
    }
   },
   "outputs": [],
   "source": [
    "response = requests.get(url)\n",
    "soup = BeautifulSoup(response.text, 'html.parser')"
   ]
  },
  {
   "cell_type": "code",
   "execution_count": 13,
   "id": "dcaa5ce6b22112e3",
   "metadata": {
    "ExecuteTime": {
     "end_time": "2024-04-20T14:19:42.069149Z",
     "start_time": "2024-04-20T14:19:42.056341Z"
    }
   },
   "outputs": [],
   "source": [
    "# Get the player's age, team, league, and position\n",
    "position = soup.select_one('p:-soup-contains(\"Position\")').text.split(':')[-2].split(' ')[0].strip()\n",
    "birthday = soup.select_one('span[id=\"necro-birth\"]').text.strip()\n",
    "\n",
    "# get the player's age\n",
    "age = (datetime.now() - datetime.strptime(birthday, '%B %d, %Y')).days // 365\n",
    "team = soup.select_one('p:-soup-contains(\"Club\")').text.split(':')[-1].strip()"
   ]
  },
  {
   "cell_type": "code",
   "execution_count": 14,
   "id": "76bf789d7aaacdd1",
   "metadata": {
    "ExecuteTime": {
     "end_time": "2024-04-20T14:19:42.898689Z",
     "start_time": "2024-04-20T14:19:42.894546Z"
    }
   },
   "outputs": [],
   "source": [
    "# df.columns = df.columns.droplevel(0)\n",
    "\n",
    "df = df.dropna(subset='Statistic')"
   ]
  },
  {
   "cell_type": "code",
   "execution_count": 15,
   "id": "3e2df996e4d06726",
   "metadata": {
    "ExecuteTime": {
     "end_time": "2024-04-20T14:19:43.665828Z",
     "start_time": "2024-04-20T14:19:43.660449Z"
    }
   },
   "outputs": [],
   "source": [
    "prompt = f\"\"\"\n",
    "\n",
    "I need you to create a scouting report on {player_name}. Can you provide me with a summary of their strengths and weaknesses?\n",
    "\n",
    "Here is the data I have on him:\n",
    "\n",
    "Player: {player_name}\n",
    "Position: {position}\n",
    "Age: {age}\n",
    "Team: {team}\n",
    "\n",
    "{df.to_markdown()}\n",
    "\n",
    "\n",
    "Return the scouting report in the following markdown format:\n",
    "\n",
    "# Scouting Report for {player_name}\n",
    "\n",
    "## Strengths\n",
    "< a list of 1 to 3 strengths >\n",
    "\n",
    "## Weaknesses\n",
    "< a list of 1 to 3 weaknesses >\n",
    "\n",
    "## Summary\n",
    "< a brief summary of the player's overall performance and if he would be beneficial to the team >\n",
    "\"\"\""
   ]
  },
  {
   "cell_type": "code",
   "execution_count": 16,
   "id": "d19f370f8a58f7e7",
   "metadata": {
    "ExecuteTime": {
     "end_time": "2024-04-20T14:19:45.361338Z",
     "start_time": "2024-04-20T14:19:45.358933Z"
    }
   },
   "outputs": [
    {
     "name": "stdout",
     "output_type": "stream",
     "text": [
      "\n",
      "\n",
      "I need you to create a scouting report on Nathan Broadhead. Can you provide me with a summary of their strengths and weaknesses?\n",
      "\n",
      "Here is the data I have on him:\n",
      "\n",
      "Player: Nathan Broadhead\n",
      "Position: FW-MF (AM)\n",
      "Age: 26\n",
      "Team: Ipswich Town\n",
      "\n",
      "|    | Statistic                | Per 90   |   Percentile |\n",
      "|---:|:-------------------------|:---------|-------------:|\n",
      "|  0 | Non-Penalty Goals        | 0.51     |           98 |\n",
      "|  1 | npxG: Non-Penalty xG     | 0.35     |           94 |\n",
      "|  2 | Shots Total              | 2.94     |           87 |\n",
      "|  3 | Assists                  | 0.12     |           28 |\n",
      "|  4 | xAG: Exp. Assisted Goals | 0.22     |           72 |\n",
      "|  5 | npxG + xAG               | 0.57     |           88 |\n",
      "|  6 | Shot-Creating Actions    | 3.10     |           31 |\n",
      "|  8 | Passes Attempted         | 26.29    |           14 |\n",
      "|  9 | Pass Completion %        | 75.2%    |           60 |\n",
      "| 10 | Progressive Passes       | 3.14     |           36 |\n",
      "| 11 | Progressive Carries      | 2.35     |           29 |\n",
      "| 12 | Successful Take-Ons      | 1.73     |           61 |\n",
      "| 13 | Touches (Att Pen)        | 4.86     |           82 |\n",
      "| 14 | Progressive Passes Rec   | 5.22     |           15 |\n",
      "| 16 | Tackles                  | 1.26     |           49 |\n",
      "| 17 | Interceptions            | 0.31     |           23 |\n",
      "| 18 | Blocks                   | 1.37     |           90 |\n",
      "| 19 | Clearances               | 0.31     |           23 |\n",
      "| 20 | Aerials Won              | 0.63     |           62 |\n",
      "\n",
      "\n",
      "Return the scouting report in the following markdown format:\n",
      "\n",
      "# Scouting Report for Nathan Broadhead\n",
      "\n",
      "## Strengths\n",
      "< a list of 1 to 3 strengths >\n",
      "\n",
      "## Weaknesses\n",
      "< a list of 1 to 3 weaknesses >\n",
      "\n",
      "## Summary\n",
      "< a brief summary of the player's overall performance and if he would be beneficial to the team >\n",
      "\n"
     ]
    }
   ],
   "source": [
    "print(prompt)"
   ]
  },
  {
   "cell_type": "code",
   "execution_count": 17,
   "id": "5e83191cab6041f4",
   "metadata": {
    "ExecuteTime": {
     "end_time": "2024-04-20T14:20:11.847303Z",
     "start_time": "2024-04-20T14:19:47.651708Z"
    }
   },
   "outputs": [],
   "source": [
    "response = client.chat.completions.create(\n",
    "    model=\"gpt-4-turbo\",\n",
    "    messages=[\n",
    "        {\"role\": \"system\", \"content\": \"You are a professional football (soccer) scout.\"},\n",
    "        {\"role\": \"user\", \"content\": prompt},\n",
    "    ],\n",
    ")"
   ]
  },
  {
   "cell_type": "code",
   "execution_count": 18,
   "id": "791d801c6c9fb3e7",
   "metadata": {
    "ExecuteTime": {
     "end_time": "2024-04-20T14:20:12.718972Z",
     "start_time": "2024-04-20T14:20:12.712730Z"
    }
   },
   "outputs": [
    {
     "name": "stdout",
     "output_type": "stream",
     "text": [
      "# Scouting Report for Nathan Broadhead\n",
      "\n",
      "## Strengths\n",
      "- **Scoring Ability:** Nathan stands out in his ability to score non-penalty goals, with a per 90 statistic of 0.51, placing him in the 98th percentile. His non-penalty expected goals (npxG) is also high at 0.35 per 90, ranked in the 94th percentile, which suggests that his high scoring rate is sustainable and not based on luck.\n",
      "- **Shot Volume:** He demonstrates a notable propensity to take shots, averaging 2.94 shots per 90, positioning him in the 87th percentile among peers. This trait indicates his confidence and willingness to create scoring opportunities.\n",
      "- **Defensive Contributions:** Broadhead shows an above-average ability to contribute defensively for an attacking player, evidenced by his blocks per 90 minutes at 1.37, ranking him in the 90th percentile.\n",
      "\n",
      "## Weaknesses\n",
      "- **Creating for Others:** Despite being effective in front of goal, Broadhead shows limitations in his playmaking, with assists at 0.12 per 90 (28th percentile) and shot-creating actions at 3.10 per 90 (31st percentile). This indicates a potential area for improvement in terms of creating opportunities for teammates.\n",
      "- **Lack of Involvement in Build-up Play:** His relatively low number of passes attempted per 90 at 26.29, ranking him in the 14th percentile, combined with average pass completion at 75.2% (60th percentile), suggests that he might not be heavily involved in passing or build-up phases of play.\n",
      "- **Progressive Playmaking:** Nathan has room to improve in progressive passes and carries, with respective percentiles of 36 and 29. Enhancing these areas could make him a more dynamic threat in advanced positions.\n",
      "\n",
      "## Summary\n",
      "Nathan Broadhead is a dynamic forward-midfielder known for his exceptional goal-scoring ability and regular shot-taking, making him a significant threat in the attacking third. However, his ability to contribute to team play through assists and progressive actions is less impressive, indicating that he works best in a system where he can focus predominantly on finishing rather than creation. His defensive metrics suggest a willingness to contribute to team efforts beyond attacking, adding value to his profile. Broadhead could be a beneficial addition to teams needing a proven goal scorer who can independently create chances, but may not fit as well in a system that heavily relies on intricate build-up play or collective attacking movements.\n"
     ]
    }
   ],
   "source": [
    "print(response.choices[0].message.content)"
   ]
  },
  {
   "cell_type": "code",
   "execution_count": 19,
   "id": "a06c07e81b54a93a",
   "metadata": {
    "ExecuteTime": {
     "end_time": "2024-04-20T13:49:04.300414Z",
     "start_time": "2024-04-20T13:49:04.285578Z"
    }
   },
   "outputs": [],
   "source": [
    "# save the scouting report to a new markdown file\n",
    "with open(f\"/Users/mckayjohns/Documents/GitHub/youtube-videos/{player_name}_scouting_report.md\", \"w\") as f:\n",
    "    f.write(response.choices[0].message.content)"
   ]
  },
  {
   "cell_type": "code",
   "execution_count": null,
   "id": "7a3508331d894250",
   "metadata": {},
   "outputs": [],
   "source": []
  }
 ],
 "metadata": {
  "kernelspec": {
   "display_name": "Python 3 (ipykernel)",
   "language": "python",
   "name": "python3"
  },
  "language_info": {
   "codemirror_mode": {
    "name": "ipython",
    "version": 3
   },
   "file_extension": ".py",
   "mimetype": "text/x-python",
   "name": "python",
   "nbconvert_exporter": "python",
   "pygments_lexer": "ipython3",
   "version": "3.10.8"
  }
 },
 "nbformat": 4,
 "nbformat_minor": 5
}
