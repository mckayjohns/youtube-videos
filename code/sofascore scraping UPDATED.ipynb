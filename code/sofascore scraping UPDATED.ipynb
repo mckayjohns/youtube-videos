{
 "cells": [
  {
   "metadata": {
    "ExecuteTime": {
     "end_time": "2024-05-05T17:26:15.475263Z",
     "start_time": "2024-05-05T17:26:15.394570Z"
    }
   },
   "cell_type": "code",
   "source": [
    "import json\n",
    "\n",
    "from selenium import webdriver # selenium 4.20.0\n",
    "from selenium.webdriver.chrome.service import Service as ChromeService\n",
    "\n",
    "from webdriver_manager.chrome import ChromeDriverManager # version 4.0.1\n"
   ],
   "id": "87d1d1cadafc71a7",
   "outputs": [],
   "execution_count": 1
  },
  {
   "metadata": {
    "ExecuteTime": {
     "end_time": "2024-05-05T17:30:19.008349Z",
     "start_time": "2024-05-05T17:30:07.376993Z"
    }
   },
   "cell_type": "code",
   "source": [
    "options = webdriver.ChromeOptions()\n",
    "options.set_capability(\n",
    "    \"goog:loggingPrefs\", {\"performance\": \"ALL\", \"browser\": \"ALL\"}\n",
    ")\n",
    "\n",
    "# Make sure you already have Chrome installed\n",
    "driver = webdriver.Chrome(service=ChromeService(ChromeDriverManager().install()), options=options)\n",
    "driver.set_page_load_timeout(10)\n",
    "\n",
    "try:\n",
    "    driver.get(\"https://www.sofascore.com/inter-miami-cf-new-york-red-bulls/gabsccKc#id:11911622,tab:statistics\")\n",
    "except:\n",
    "    pass\n",
    "\n",
    "\n",
    "driver.execute_script(\"window.scrollTo(0, document.body.scrollHeight);\")"
   ],
   "id": "bdc4a2d409dc85dc",
   "outputs": [],
   "execution_count": 5
  },
  {
   "metadata": {
    "ExecuteTime": {
     "end_time": "2024-05-05T17:31:36.335762Z",
     "start_time": "2024-05-05T17:31:36.150825Z"
    }
   },
   "cell_type": "code",
   "source": [
    "# extract requests from logs\n",
    "logs_raw = driver.get_log(\"performance\")\n",
    "logs = [json.loads(lr[\"message\"])[\"message\"] for lr in logs_raw]"
   ],
   "id": "a9c4766e986d38ab",
   "outputs": [],
   "execution_count": 7
  },
  {
   "metadata": {
    "ExecuteTime": {
     "end_time": "2024-05-05T17:31:36.966388Z",
     "start_time": "2024-05-05T17:31:36.961264Z"
    }
   },
   "cell_type": "code",
   "source": [
    "for x in logs:\n",
    "    if 'shotmap' in x['params'].get('headers', {}).get(':path', ''):\n",
    "        print(x['params'].get('headers', {}).get(':path'))\n",
    "        break"
   ],
   "id": "c484d824f64dc93e",
   "outputs": [
    {
     "name": "stdout",
     "output_type": "stream",
     "text": [
      "/api/v1/event/11911622/shotmap\n"
     ]
    }
   ],
   "execution_count": 8
  },
  {
   "metadata": {
    "ExecuteTime": {
     "end_time": "2024-05-05T17:31:58.828566Z",
     "start_time": "2024-05-05T17:31:58.819854Z"
    }
   },
   "cell_type": "code",
   "source": [
    "test = json.loads(driver.execute_cdp_cmd('Network.getResponseBody', {'requestId': x[\"params\"][\"requestId\"]})['body'])['shotmap']\n",
    "test[0]"
   ],
   "id": "d09adaa1c90c06f7",
   "outputs": [
    {
     "data": {
      "text/plain": [
       "{'player': {'name': 'Emil Forsberg',\n",
       "  'slug': 'emil-forsberg',\n",
       "  'shortName': 'E. Forsberg',\n",
       "  'position': 'M',\n",
       "  'jerseyNumber': '10',\n",
       "  'userCount': 3264,\n",
       "  'id': 51785,\n",
       "  'fieldTranslations': {'nameTranslation': {'ar': 'فورسبرغ, اميل'},\n",
       "   'shortNameTranslation': {'ar': 'ا. فورسبرغ'}}},\n",
       " 'isHome': False,\n",
       " 'shotType': 'goal',\n",
       " 'goalType': 'penalty',\n",
       " 'situation': 'penalty',\n",
       " 'playerCoordinates': {'x': 11.5, 'y': 50, 'z': 0},\n",
       " 'bodyPart': 'right-foot',\n",
       " 'goalMouthLocation': 'low-right',\n",
       " 'goalMouthCoordinates': {'x': 0, 'y': 45.9, 'z': 7},\n",
       " 'xg': 0.7884,\n",
       " 'xgot': 0.9933,\n",
       " 'id': 2827047,\n",
       " 'time': 90,\n",
       " 'addedTime': 7,\n",
       " 'timeSeconds': 5774,\n",
       " 'draw': {'start': {'x': 50, 'y': 11.5},\n",
       "  'end': {'x': 54.1, 'y': 0},\n",
       "  'goal': {'x': 54.1, 'y': 93}},\n",
       " 'reversedPeriodTime': 1,\n",
       " 'reversedPeriodTimeSeconds': 526,\n",
       " 'incidentType': 'shot'}"
      ]
     },
     "execution_count": 10,
     "metadata": {},
     "output_type": "execute_result"
    }
   ],
   "execution_count": 10
  },
  {
   "metadata": {},
   "cell_type": "code",
   "outputs": [],
   "execution_count": null,
   "source": "",
   "id": "25cc16cb68e8f42d"
  }
 ],
 "metadata": {
  "kernelspec": {
   "display_name": "Python 3",
   "language": "python",
   "name": "python3"
  },
  "language_info": {
   "codemirror_mode": {
    "name": "ipython",
    "version": 2
   },
   "file_extension": ".py",
   "mimetype": "text/x-python",
   "name": "python",
   "nbconvert_exporter": "python",
   "pygments_lexer": "ipython2",
   "version": "2.7.6"
  }
 },
 "nbformat": 4,
 "nbformat_minor": 5
}
