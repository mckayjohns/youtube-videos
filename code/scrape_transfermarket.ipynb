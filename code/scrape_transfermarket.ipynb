{
 "cells": [
  {
   "cell_type": "code",
   "execution_count": 1,
   "id": "initial_id",
   "metadata": {
    "collapsed": true,
    "ExecuteTime": {
     "end_time": "2023-12-17T05:20:01.671284Z",
     "start_time": "2023-12-17T05:20:01.578104Z"
    }
   },
   "outputs": [],
   "source": [
    "import re\n",
    "import requests\n",
    "\n",
    "from bs4 import BeautifulSoup"
   ]
  },
  {
   "cell_type": "code",
   "execution_count": 2,
   "outputs": [],
   "source": [
    "# Scrape a player page\n",
    "url = \"https://www.transfermarkt.us/erling-haaland/profil/spieler/418560\"\n",
    "player_id = url.split('/')[-1]"
   ],
   "metadata": {
    "collapsed": false,
    "ExecuteTime": {
     "end_time": "2023-12-17T05:20:08.396680Z",
     "start_time": "2023-12-17T05:20:08.394096Z"
    }
   },
   "id": "6d5f36a5e2f72211"
  },
  {
   "cell_type": "code",
   "execution_count": 3,
   "outputs": [],
   "source": [
    "# Get headers from https://www.whatismybrowser.com/detect/what-http-headers-is-my-browser-sending\n",
    "headers = {\n",
    "    'user-agent': 'Mozilla/5.0 (Macintosh; Intel Mac OS X 10_15_7) AppleWebKit/537.36 (KHTML, like Gecko) Chrome/119.0.0.0 Safari/537.36',\n",
    "}"
   ],
   "metadata": {
    "collapsed": false,
    "ExecuteTime": {
     "end_time": "2023-12-17T05:20:14.204176Z",
     "start_time": "2023-12-17T05:20:14.201892Z"
    }
   },
   "id": "a3358d2de7990ccc"
  },
  {
   "cell_type": "code",
   "execution_count": 4,
   "outputs": [],
   "source": [
    "response = requests.get(url, headers=headers)\n",
    "soup = BeautifulSoup(response.content, \"html.parser\")"
   ],
   "metadata": {
    "collapsed": false,
    "ExecuteTime": {
     "end_time": "2023-12-17T05:20:19.043486Z",
     "start_time": "2023-12-17T05:20:18.142240Z"
    }
   },
   "id": "3ee3258cb5f1de35"
  },
  {
   "cell_type": "code",
   "execution_count": 5,
   "outputs": [],
   "source": [
    "player_name = soup.select_one('h1[class=\"data-header__headline-wrapper\"]').text.split('\\n')[-1].strip()\n",
    "player_number = soup.select_one('span[class=\"data-header__shirt-number\"]').text.strip().replace('#', '')"
   ],
   "metadata": {
    "collapsed": false,
    "ExecuteTime": {
     "end_time": "2023-12-17T05:20:24.242395Z",
     "start_time": "2023-12-17T05:20:24.238078Z"
    }
   },
   "id": "2a2448897d5838de"
  },
  {
   "cell_type": "code",
   "execution_count": 6,
   "outputs": [],
   "source": [
    "# Let's use regex to find the player's contract expiry date\n",
    "player_contract_expiry = re.search(\"Contract expires: (.*)\", soup.text).group(1)\n",
    "\n",
    "# Now let's add some more complex regex patterns to find the player's birthplace\n",
    "player_birthplace = re.search(\"Place of birth:.*?([A-z].*?) \", soup.text, re.DOTALL).group(1).strip()\n",
    "\n",
    "# We can reuse both of those ideas to find other player information but just replacing the name\n",
    "\n",
    "# We might have to switch a couple of things though in the regex pattern like accounting for two words\n",
    "player_agent = re.search(\"Agent:.*?([A-z].*?)\\n\", soup.text, re.DOTALL).group(1).strip()\n",
    "\n",
    "# We can also use regex to find the player's height which has numbers a comma and letters\n",
    "player_height = re.search(\"Height:.*?([0-9].*?)\\n\", soup.text, re.DOTALL).group(1).strip()\n"
   ],
   "metadata": {
    "collapsed": false,
    "ExecuteTime": {
     "end_time": "2023-12-17T05:20:38.603396Z",
     "start_time": "2023-12-17T05:20:38.598567Z"
    }
   },
   "id": "29f9348d799db157"
  },
  {
   "cell_type": "code",
   "execution_count": 7,
   "outputs": [],
   "source": [
    "# Ok so now that we've got some basic regex patterns, let's move on to using api endpoints\n",
    "# curlconverter.com\n",
    "api_endpoints = [\n",
    "    f\"marketValueDevelopment/graph/{player_id}\",\n",
    "    f\"transferHistory/list/{player_id}\",\n",
    "    f\"player/{player_id}/performance\"\n",
    "]\n",
    "\n",
    "for endpoint in api_endpoints:\n",
    "    response = requests.get(\n",
    "        'https://www.transfermarkt.us/ceapi/' + endpoint,\n",
    "        headers=headers\n",
    "    ).json()"
   ],
   "metadata": {
    "collapsed": false,
    "ExecuteTime": {
     "end_time": "2023-12-17T05:20:45.896153Z",
     "start_time": "2023-12-17T05:20:43.948328Z"
    }
   },
   "id": "fc7ed8d082732dd2"
  }
 ],
 "metadata": {
  "kernelspec": {
   "display_name": "Python 3",
   "language": "python",
   "name": "python3"
  },
  "language_info": {
   "codemirror_mode": {
    "name": "ipython",
    "version": 2
   },
   "file_extension": ".py",
   "mimetype": "text/x-python",
   "name": "python",
   "nbconvert_exporter": "python",
   "pygments_lexer": "ipython2",
   "version": "2.7.6"
  }
 },
 "nbformat": 4,
 "nbformat_minor": 5
}
